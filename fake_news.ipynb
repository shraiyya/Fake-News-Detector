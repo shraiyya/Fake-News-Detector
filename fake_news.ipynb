{
  "nbformat": 4,
  "nbformat_minor": 0,
  "metadata": {
    "colab": {
      "name": "fake_news.ipynb",
      "provenance": [],
      "collapsed_sections": []
    },
    "kernelspec": {
      "name": "python3",
      "display_name": "Python 3"
    }
  },
  "cells": [
    {
      "cell_type": "markdown",
      "metadata": {
        "id": "blzOrLNktGuD",
        "colab_type": "text"
      },
      "source": [
        "###**FAKE NEWS CLASSIFIER USING \"TfidfVectorizer\"**\n",
        "\n",
        "\n",
        "\n"
      ]
    },
    {
      "cell_type": "markdown",
      "metadata": {
        "id": "6eXeAGaKuIX0",
        "colab_type": "text"
      },
      "source": [
        "Problem Statement : To build a model to accurately classify a piece of news as REAL or FAKE.\n",
        "\n",
        "Using sklearn,  build a *TfidfVectorizer* on the provided dataset. Then, initialize a *PassiveAggressive Classifier* and fit the model. In the end, the accuracy score and the confusion matrix tell us how well our model fares."
      ]
    },
    {
      "cell_type": "code",
      "metadata": {
        "id": "5ZuwVkUUtg44",
        "colab_type": "code",
        "colab": {}
      },
      "source": [
        "#First we will import all the libraries needed for the project\n",
        "import numpy as np\n",
        "import pandas as pd\n",
        "import itertools    #to return iterators\n",
        "\n",
        "#sklearn is a machine learning library\n",
        "import sklearn.metrics as metrics\n",
        "from sklearn.model_selection import train_test_split\n",
        "from sklearn.feature_extraction.text import TfidfVectorizer  #import the vectorizer\n",
        "from sklearn.linear_model import PassiveAggressiveClassifier\n",
        "from sklearn.metrics import accuracy_score, confusion_matrix  #for finding the accuracy and the confusion matrix\n",
        "from sklearn.metrics import plot_confusion_matrix             #from the graphical view of the confusion matrix"
      ],
      "execution_count": 0,
      "outputs": []
    },
    {
      "cell_type": "markdown",
      "metadata": {
        "id": "C0oQU5OPv0-f",
        "colab_type": "text"
      },
      "source": [
        "####*Data Exploration*"
      ]
    },
    {
      "cell_type": "code",
      "metadata": {
        "id": "zoDOzKz0veTN",
        "colab_type": "code",
        "outputId": "89cac2d3-008e-4c97-edd3-8ba78b5b5f34",
        "colab": {
          "base_uri": "https://localhost:8080/",
          "height": 366
        }
      },
      "source": [
        "df=pd.read_csv(\"/content/news.csv\")\n",
        "\n",
        "#tells us the shape = no of rows and columns\n",
        "print(\"(rows,columns) = \",end=\"\")\n",
        "print(df.shape)\n",
        "\n",
        "#to see first 10 rows of the dataframe\n",
        "df.head(10)"
      ],
      "execution_count": 114,
      "outputs": [
        {
          "output_type": "stream",
          "text": [
            "(rows,columns) = (6335, 4)\n"
          ],
          "name": "stdout"
        },
        {
          "output_type": "execute_result",
          "data": {
            "text/html": [
              "<div>\n",
              "<style scoped>\n",
              "    .dataframe tbody tr th:only-of-type {\n",
              "        vertical-align: middle;\n",
              "    }\n",
              "\n",
              "    .dataframe tbody tr th {\n",
              "        vertical-align: top;\n",
              "    }\n",
              "\n",
              "    .dataframe thead th {\n",
              "        text-align: right;\n",
              "    }\n",
              "</style>\n",
              "<table border=\"1\" class=\"dataframe\">\n",
              "  <thead>\n",
              "    <tr style=\"text-align: right;\">\n",
              "      <th></th>\n",
              "      <th>Unnamed: 0</th>\n",
              "      <th>title</th>\n",
              "      <th>text</th>\n",
              "      <th>label</th>\n",
              "    </tr>\n",
              "  </thead>\n",
              "  <tbody>\n",
              "    <tr>\n",
              "      <th>0</th>\n",
              "      <td>8476</td>\n",
              "      <td>You Can Smell Hillary’s Fear</td>\n",
              "      <td>Daniel Greenfield, a Shillman Journalism Fello...</td>\n",
              "      <td>FAKE</td>\n",
              "    </tr>\n",
              "    <tr>\n",
              "      <th>1</th>\n",
              "      <td>10294</td>\n",
              "      <td>Watch The Exact Moment Paul Ryan Committed Pol...</td>\n",
              "      <td>Google Pinterest Digg Linkedin Reddit Stumbleu...</td>\n",
              "      <td>FAKE</td>\n",
              "    </tr>\n",
              "    <tr>\n",
              "      <th>2</th>\n",
              "      <td>3608</td>\n",
              "      <td>Kerry to go to Paris in gesture of sympathy</td>\n",
              "      <td>U.S. Secretary of State John F. Kerry said Mon...</td>\n",
              "      <td>REAL</td>\n",
              "    </tr>\n",
              "    <tr>\n",
              "      <th>3</th>\n",
              "      <td>10142</td>\n",
              "      <td>Bernie supporters on Twitter erupt in anger ag...</td>\n",
              "      <td>— Kaydee King (@KaydeeKing) November 9, 2016 T...</td>\n",
              "      <td>FAKE</td>\n",
              "    </tr>\n",
              "    <tr>\n",
              "      <th>4</th>\n",
              "      <td>875</td>\n",
              "      <td>The Battle of New York: Why This Primary Matters</td>\n",
              "      <td>It's primary day in New York and front-runners...</td>\n",
              "      <td>REAL</td>\n",
              "    </tr>\n",
              "    <tr>\n",
              "      <th>5</th>\n",
              "      <td>6903</td>\n",
              "      <td>Tehran, USA</td>\n",
              "      <td>\\nI’m not an immigrant, but my grandparents ...</td>\n",
              "      <td>FAKE</td>\n",
              "    </tr>\n",
              "    <tr>\n",
              "      <th>6</th>\n",
              "      <td>7341</td>\n",
              "      <td>Girl Horrified At What She Watches Boyfriend D...</td>\n",
              "      <td>Share This Baylee Luciani (left), Screenshot o...</td>\n",
              "      <td>FAKE</td>\n",
              "    </tr>\n",
              "    <tr>\n",
              "      <th>7</th>\n",
              "      <td>95</td>\n",
              "      <td>‘Britain’s Schindler’ Dies at 106</td>\n",
              "      <td>A Czech stockbroker who saved more than 650 Je...</td>\n",
              "      <td>REAL</td>\n",
              "    </tr>\n",
              "    <tr>\n",
              "      <th>8</th>\n",
              "      <td>4869</td>\n",
              "      <td>Fact check: Trump and Clinton at the 'commande...</td>\n",
              "      <td>Hillary Clinton and Donald Trump made some ina...</td>\n",
              "      <td>REAL</td>\n",
              "    </tr>\n",
              "    <tr>\n",
              "      <th>9</th>\n",
              "      <td>2909</td>\n",
              "      <td>Iran reportedly makes new push for uranium con...</td>\n",
              "      <td>Iranian negotiators reportedly have made a las...</td>\n",
              "      <td>REAL</td>\n",
              "    </tr>\n",
              "  </tbody>\n",
              "</table>\n",
              "</div>"
            ],
            "text/plain": [
              "   Unnamed: 0  ... label\n",
              "0        8476  ...  FAKE\n",
              "1       10294  ...  FAKE\n",
              "2        3608  ...  REAL\n",
              "3       10142  ...  FAKE\n",
              "4         875  ...  REAL\n",
              "5        6903  ...  FAKE\n",
              "6        7341  ...  FAKE\n",
              "7          95  ...  REAL\n",
              "8        4869  ...  REAL\n",
              "9        2909  ...  REAL\n",
              "\n",
              "[10 rows x 4 columns]"
            ]
          },
          "metadata": {
            "tags": []
          },
          "execution_count": 114
        }
      ]
    },
    {
      "cell_type": "code",
      "metadata": {
        "id": "h0GY10Xjx_Bc",
        "colab_type": "code",
        "colab": {
          "base_uri": "https://localhost:8080/",
          "height": 34
        },
        "outputId": "cd3f91b8-7c23-46ec-8dff-f68a8f27ce08"
      },
      "source": [
        "print(df.columns)  #gives the list of columns"
      ],
      "execution_count": 115,
      "outputs": [
        {
          "output_type": "stream",
          "text": [
            "Index(['Unnamed: 0', 'title', 'text', 'label'], dtype='object')\n"
          ],
          "name": "stdout"
        }
      ]
    },
    {
      "cell_type": "code",
      "metadata": {
        "id": "t31wZ2-fzALS",
        "colab_type": "code",
        "colab": {
          "base_uri": "https://localhost:8080/",
          "height": 205
        },
        "outputId": "b83052a3-6ac1-41c4-c730-9a103efee47d"
      },
      "source": [
        "labels=df.label\n",
        "labels.head(10)"
      ],
      "execution_count": 116,
      "outputs": [
        {
          "output_type": "execute_result",
          "data": {
            "text/plain": [
              "0    FAKE\n",
              "1    FAKE\n",
              "2    REAL\n",
              "3    FAKE\n",
              "4    REAL\n",
              "5    FAKE\n",
              "6    FAKE\n",
              "7    REAL\n",
              "8    REAL\n",
              "9    REAL\n",
              "Name: label, dtype: object"
            ]
          },
          "metadata": {
            "tags": []
          },
          "execution_count": 116
        }
      ]
    },
    {
      "cell_type": "code",
      "metadata": {
        "id": "xNcNYr8rzkMa",
        "colab_type": "code",
        "colab": {}
      },
      "source": [
        "# split the datset for training as well as testing\n",
        "\n",
        "x_train,x_test,y_train,y_test=train_test_split(df['text'], labels, test_size=0.2, random_state=7)\n",
        "#20 percent data will be used for training\n",
        "#the column text will be taken as x_train and the column to be trained is the labels."
      ],
      "execution_count": 0,
      "outputs": []
    },
    {
      "cell_type": "markdown",
      "metadata": {
        "id": "SSJysLFA0xTC",
        "colab_type": "text"
      },
      "source": [
        "###*Building and intializing the  TfidfVectorizer*"
      ]
    },
    {
      "cell_type": "code",
      "metadata": {
        "id": "YbpiEKKX0mUG",
        "colab_type": "code",
        "colab": {}
      },
      "source": [
        "t_vectorizer=TfidfVectorizer(stop_words='english', max_df=0.7) \n",
        "#this will stop the english words \n",
        "#words which occur more than 70 percent of the artices will be discarded\n",
        "\n",
        "t_train=t_vectorizer.fit_transform(x_train) \n",
        "\n",
        "t_test=t_vectorizer.transform(x_test)"
      ],
      "execution_count": 0,
      "outputs": []
    },
    {
      "cell_type": "code",
      "metadata": {
        "id": "ep8kf0OLz0ab",
        "colab_type": "code",
        "colab": {
          "base_uri": "https://localhost:8080/",
          "height": 1000
        },
        "outputId": "9c4b8307-2f8b-4668-9038-e27be4e00f6d"
      },
      "source": [
        "#to find the value of  max_iter from 1 to 100 which gives the highest accuracy we will use a loop\n",
        "score11=[0]*101\n",
        "for max_iter in range (1,101):\n",
        " pac1=PassiveAggressiveClassifier(max_iter)\n",
        "\n",
        " pac1.fit(t_train,y_train)\n",
        " y_pred=pac1.predict(t_test)\n",
        " score11[max_iter]=accuracy_score(y_test,y_pred)\n",
        " print(max_iter,end=\" \")\n",
        " print(f'Accuracy: {round(score11[max_iter]*100,2)}%')\n",
        "\n",
        "print(\"  \")\n",
        "print(\"The highest value of accuracy is at max-iter of value \" ,end=\" \")\n",
        "print(score11.index(max(score11))) #print the value of iter where value is max\n",
        "print('ACCURACY IS ',end=\"\")\n",
        "print(round(max(score11)*100),end=\" %\")"
      ],
      "execution_count": 119,
      "outputs": [
        {
          "output_type": "stream",
          "text": [
            "1 Accuracy: 92.9%\n",
            "2 Accuracy: 92.98%\n",
            "3 Accuracy: 92.82%\n",
            "4 Accuracy: 92.5%\n",
            "5 Accuracy: 92.98%\n",
            "6 Accuracy: 93.21%\n",
            "7 Accuracy: 92.98%\n",
            "8 Accuracy: 92.82%\n",
            "9 Accuracy: 92.42%\n",
            "10 Accuracy: 92.98%\n",
            "11 Accuracy: 92.9%\n",
            "12 Accuracy: 92.74%\n",
            "13 Accuracy: 93.21%\n",
            "14 Accuracy: 92.98%\n",
            "15 Accuracy: 92.58%\n",
            "16 Accuracy: 92.82%\n",
            "17 Accuracy: 92.66%\n",
            "18 Accuracy: 92.42%\n",
            "19 Accuracy: 92.58%\n",
            "20 Accuracy: 92.9%\n",
            "21 Accuracy: 92.5%\n",
            "22 Accuracy: 93.05%\n",
            "23 Accuracy: 92.66%\n",
            "24 Accuracy: 92.5%\n",
            "25 Accuracy: 93.05%\n",
            "26 Accuracy: 92.5%\n",
            "27 Accuracy: 92.74%\n",
            "28 Accuracy: 92.5%\n",
            "29 Accuracy: 92.74%\n",
            "30 Accuracy: 92.5%\n",
            "31 Accuracy: 93.05%\n",
            "32 Accuracy: 92.82%\n",
            "33 Accuracy: 92.98%\n",
            "34 Accuracy: 92.9%\n",
            "35 Accuracy: 92.74%\n",
            "36 Accuracy: 92.66%\n",
            "37 Accuracy: 92.9%\n",
            "38 Accuracy: 92.66%\n",
            "39 Accuracy: 92.66%\n",
            "40 Accuracy: 92.9%\n",
            "41 Accuracy: 92.42%\n",
            "42 Accuracy: 92.34%\n",
            "43 Accuracy: 92.5%\n",
            "44 Accuracy: 92.58%\n",
            "45 Accuracy: 93.13%\n",
            "46 Accuracy: 92.82%\n",
            "47 Accuracy: 92.27%\n",
            "48 Accuracy: 92.66%\n",
            "49 Accuracy: 92.42%\n",
            "50 Accuracy: 93.13%\n",
            "51 Accuracy: 92.98%\n",
            "52 Accuracy: 92.82%\n",
            "53 Accuracy: 92.98%\n",
            "54 Accuracy: 92.42%\n",
            "55 Accuracy: 92.9%\n",
            "56 Accuracy: 92.9%\n",
            "57 Accuracy: 92.9%\n",
            "58 Accuracy: 92.5%\n",
            "59 Accuracy: 92.98%\n",
            "60 Accuracy: 92.58%\n",
            "61 Accuracy: 92.42%\n",
            "62 Accuracy: 92.98%\n",
            "63 Accuracy: 92.9%\n",
            "64 Accuracy: 92.74%\n",
            "65 Accuracy: 92.82%\n",
            "66 Accuracy: 92.74%\n",
            "67 Accuracy: 92.9%\n",
            "68 Accuracy: 92.42%\n",
            "69 Accuracy: 93.37%\n",
            "70 Accuracy: 92.5%\n",
            "71 Accuracy: 92.98%\n",
            "72 Accuracy: 92.98%\n",
            "73 Accuracy: 92.9%\n",
            "74 Accuracy: 92.82%\n",
            "75 Accuracy: 92.66%\n",
            "76 Accuracy: 92.74%\n",
            "77 Accuracy: 92.82%\n",
            "78 Accuracy: 92.98%\n",
            "79 Accuracy: 92.5%\n",
            "80 Accuracy: 92.74%\n",
            "81 Accuracy: 92.58%\n",
            "82 Accuracy: 92.66%\n",
            "83 Accuracy: 92.5%\n",
            "84 Accuracy: 92.98%\n",
            "85 Accuracy: 92.66%\n",
            "86 Accuracy: 92.98%\n",
            "87 Accuracy: 92.82%\n",
            "88 Accuracy: 92.82%\n",
            "89 Accuracy: 93.05%\n",
            "90 Accuracy: 92.98%\n",
            "91 Accuracy: 92.74%\n",
            "92 Accuracy: 92.82%\n",
            "93 Accuracy: 92.9%\n",
            "94 Accuracy: 92.58%\n",
            "95 Accuracy: 92.9%\n",
            "96 Accuracy: 92.66%\n",
            "97 Accuracy: 92.58%\n",
            "98 Accuracy: 92.66%\n",
            "99 Accuracy: 92.66%\n",
            "100 Accuracy: 92.5%\n",
            "  \n",
            "The highest value of accuracy is at max-iter of value  69\n",
            "ACCURACY IS 93.0 %"
          ],
          "name": "stdout"
        }
      ]
    },
    {
      "cell_type": "markdown",
      "metadata": {
        "id": "04A997WqHL55",
        "colab_type": "text"
      },
      "source": [
        "###THE CONFUSION MATRIX"
      ]
    },
    {
      "cell_type": "code",
      "metadata": {
        "id": "AzDTuPNC21Ea",
        "colab_type": "code",
        "colab": {
          "base_uri": "https://localhost:8080/",
          "height": 51
        },
        "outputId": "8e4d19e4-ba43-42fd-dabd-b00ab35a6a4a"
      },
      "source": [
        "m=confusion_matrix(y_test,y_pred, labels=['FAKE','REAL'])\n",
        "print(m)"
      ],
      "execution_count": 120,
      "outputs": [
        {
          "output_type": "stream",
          "text": [
            "[[590  48]\n",
            " [ 47 582]]\n"
          ],
          "name": "stdout"
        }
      ]
    },
    {
      "cell_type": "markdown",
      "metadata": {
        "id": "LetQl5xf_6sG",
        "colab_type": "text"
      },
      "source": [
        "### *PLOTTING THE CONFUSION MATRIX USING SEABORN*"
      ]
    },
    {
      "cell_type": "code",
      "metadata": {
        "id": "RC4REygl7C9E",
        "colab_type": "code",
        "colab": {
          "base_uri": "https://localhost:8080/",
          "height": 329
        },
        "outputId": "b6911db3-b89c-4e10-b768-da52807cf434"
      },
      "source": [
        "import seaborn as sn\n",
        "import matplotlib.pyplot as plt\n",
        "\n",
        "ax=plt.subplot()\n",
        "\n",
        "sn.heatmap(m ,annot=True,ax = ax,fmt='g',cmap='Blues') \n",
        " #cmap = blue will set the color \n",
        " #fmt is used to pass value as string\n",
        "plt.figure(figsize=(15,15))  #size of figure\n",
        "\n",
        "ax.set_xlabel('Predicted labels')\n",
        "ax.set_ylabel('True labels')\n",
        "ax.xaxis.set_ticklabels(['FAKE', 'REAL'])\n",
        "ax.yaxis.set_ticklabels(['FAKE', 'REAL'])\n",
        "\n",
        "ax.set_title('Confusion Matrix of the classifier') #title \n",
        "print(\" \")  "
      ],
      "execution_count": 121,
      "outputs": [
        {
          "output_type": "stream",
          "text": [
            " \n"
          ],
          "name": "stdout"
        },
        {
          "output_type": "display_data",
          "data": {
            "image/png": "[encoded data removed]",
            "text/plain": [
              "<Figure size 432x288 with 2 Axes>"
            ]
          },
          "metadata": {
            "tags": [],
            "needs_background": "light"
          }
        },
        {
          "output_type": "display_data",
          "data": {
            "text/plain": [
              "<Figure size 1080x1080 with 0 Axes>"
            ]
          },
          "metadata": {
            "tags": []
          }
        }
      ]
    }
  ]
}